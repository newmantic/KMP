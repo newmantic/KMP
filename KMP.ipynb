{
  "nbformat": 4,
  "nbformat_minor": 0,
  "metadata": {
    "colab": {
      "provenance": [],
      "authorship_tag": "ABX9TyPqALVNOSbeqYwnbHrWy43X",
      "include_colab_link": true
    },
    "kernelspec": {
      "name": "python3",
      "display_name": "Python 3"
    },
    "language_info": {
      "name": "python"
    }
  },
  "cells": [
    {
      "cell_type": "markdown",
      "metadata": {
        "id": "view-in-github",
        "colab_type": "text"
      },
      "source": [
        "<a href=\"https://colab.research.google.com/github/newmantic/KMP/blob/main/KMP.ipynb\" target=\"_parent\"><img src=\"https://colab.research.google.com/assets/colab-badge.svg\" alt=\"Open In Colab\"/></a>"
      ]
    },
    {
      "cell_type": "code",
      "execution_count": 1,
      "metadata": {
        "id": "WWGFKXaPobVt"
      },
      "outputs": [],
      "source": [
        "class KMP:\n",
        "    def __init__(self, pattern):\n",
        "        \"\"\"\n",
        "        Initialize the KMP algorithm with the given pattern.\n",
        "        :param pattern: The pattern to search for in the text.\n",
        "        \"\"\"\n",
        "        self.pattern = pattern\n",
        "        self.lps = self.build_lps(pattern)\n",
        "\n",
        "    def build_lps(self, pattern):\n",
        "        \"\"\"\n",
        "        Build the Longest Prefix Suffix (LPS) array for the pattern.\n",
        "        :param pattern: The pattern to build the LPS array for.\n",
        "        :return: The LPS array.\n",
        "        \"\"\"\n",
        "        m = len(pattern)\n",
        "        lps = [0] * m\n",
        "        length = 0  # length of the previous longest prefix suffix\n",
        "        i = 1\n",
        "\n",
        "        while i < m:\n",
        "            if pattern[i] == pattern[length]:\n",
        "                length += 1\n",
        "                lps[i] = length\n",
        "                i += 1\n",
        "            else:\n",
        "                if length != 0:\n",
        "                    length = lps[length - 1]\n",
        "                else:\n",
        "                    lps[i] = 0\n",
        "                    i += 1\n",
        "\n",
        "        return lps\n",
        "\n",
        "    def search(self, text):\n",
        "        \"\"\"\n",
        "        Search for the pattern in the given text using the KMP algorithm.\n",
        "        :param text: The text in which to search for the pattern.\n",
        "        :return: A list of starting indices where the pattern is found in the text.\n",
        "        \"\"\"\n",
        "        n = len(text)\n",
        "        m = len(self.pattern)\n",
        "        lps = self.lps\n",
        "\n",
        "        i = 0  # index for text\n",
        "        j = 0  # index for pattern\n",
        "        result = []\n",
        "\n",
        "        while i < n:\n",
        "            if self.pattern[j] == text[i]:\n",
        "                i += 1\n",
        "                j += 1\n",
        "\n",
        "            if j == m:\n",
        "                result.append(i - j)\n",
        "                j = lps[j - 1]\n",
        "\n",
        "            elif i < n and self.pattern[j] != text[i]:\n",
        "                if j != 0:\n",
        "                    j = lps[j - 1]\n",
        "                else:\n",
        "                    i += 1\n",
        "\n",
        "        return result"
      ]
    },
    {
      "cell_type": "code",
      "source": [
        "def test_case_1():\n",
        "    text = \"ababcabcabababd\"\n",
        "    pattern = \"ababd\"\n",
        "    kmp = KMP(pattern)\n",
        "    result = kmp.search(text)\n",
        "    print(f\"Pattern found at indices: {result}\")  # Expected: [10]\n",
        "\n",
        "test_case_1()"
      ],
      "metadata": {
        "colab": {
          "base_uri": "https://localhost:8080/"
        },
        "id": "oUN6pfDlopVi",
        "outputId": "2e9a124e-2304-4d3e-d67a-e972bd697496"
      },
      "execution_count": 2,
      "outputs": [
        {
          "output_type": "stream",
          "name": "stdout",
          "text": [
            "Pattern found at indices: [10]\n"
          ]
        }
      ]
    },
    {
      "cell_type": "code",
      "source": [
        "def test_case_2():\n",
        "    text = \"abcabcabcabc\"\n",
        "    pattern = \"abcabc\"\n",
        "    kmp = KMP(pattern)\n",
        "    result = kmp.search(text)\n",
        "    print(f\"Pattern found at indices: {result}\")  # Expected: [0, 3, 6]\n",
        "\n",
        "test_case_2()"
      ],
      "metadata": {
        "colab": {
          "base_uri": "https://localhost:8080/"
        },
        "id": "zYT_6xtZorrM",
        "outputId": "f4c2b35d-3cf2-4146-e67e-c6b6e469a5ce"
      },
      "execution_count": 3,
      "outputs": [
        {
          "output_type": "stream",
          "name": "stdout",
          "text": [
            "Pattern found at indices: [0, 3, 6]\n"
          ]
        }
      ]
    },
    {
      "cell_type": "code",
      "source": [
        "def test_case_3():\n",
        "    text = \"abcdefgh\"\n",
        "    pattern = \"xyz\"\n",
        "    kmp = KMP(pattern)\n",
        "    result = kmp.search(text)\n",
        "    print(f\"Pattern found at indices: {result}\")  # Expected: []\n",
        "\n",
        "test_case_3()"
      ],
      "metadata": {
        "colab": {
          "base_uri": "https://localhost:8080/"
        },
        "id": "2MLVJgonouL-",
        "outputId": "a188b5ed-68cf-40b0-b143-f92d96109b68"
      },
      "execution_count": 4,
      "outputs": [
        {
          "output_type": "stream",
          "name": "stdout",
          "text": [
            "Pattern found at indices: []\n"
          ]
        }
      ]
    },
    {
      "cell_type": "code",
      "source": [
        "def test_case_4():\n",
        "    text = \"aaaaaaaaaaaaaaaaab\"\n",
        "    pattern = \"aaaaab\"\n",
        "    kmp = KMP(pattern)\n",
        "    result = kmp.search(text)\n",
        "    print(f\"Pattern found at indices: {result}\")  # Expected: [12]\n",
        "\n",
        "test_case_4()"
      ],
      "metadata": {
        "colab": {
          "base_uri": "https://localhost:8080/"
        },
        "id": "OAurVHypowOx",
        "outputId": "4e79ea2f-e8b3-4225-c12a-4b2bbe935bee"
      },
      "execution_count": 5,
      "outputs": [
        {
          "output_type": "stream",
          "name": "stdout",
          "text": [
            "Pattern found at indices: [12]\n"
          ]
        }
      ]
    },
    {
      "cell_type": "code",
      "source": [
        "def test_case_5():\n",
        "    text = \"ab\" * 1000 + \"abcd\"\n",
        "    pattern = \"abcd\"\n",
        "    kmp = KMP(pattern)\n",
        "    result = kmp.search(text)\n",
        "    print(f\"Pattern found at indices: {result}\")  # Expected: [2000]\n",
        "\n",
        "test_case_5()"
      ],
      "metadata": {
        "colab": {
          "base_uri": "https://localhost:8080/"
        },
        "id": "c-952g8foyKT",
        "outputId": "e42f68e9-24d0-495d-8dc9-22a44295ee5b"
      },
      "execution_count": 6,
      "outputs": [
        {
          "output_type": "stream",
          "name": "stdout",
          "text": [
            "Pattern found at indices: [2000]\n"
          ]
        }
      ]
    }
  ]
}